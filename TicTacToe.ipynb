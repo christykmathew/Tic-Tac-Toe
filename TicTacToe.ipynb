{
  "nbformat": 4,
  "nbformat_minor": 0,
  "metadata": {
    "colab": {
      "name": "TicTacToe",
      "provenance": []
    },
    "kernelspec": {
      "name": "python3",
      "display_name": "Python 3"
    }
  },
  "cells": [
    {
      "cell_type": "code",
      "metadata": {
        "id": "x6qto4eW0Pxl",
        "colab_type": "code",
        "colab": {}
      },
      "source": [
        "import random as r\n",
        "import time\n",
        "from copy import deepcopy"
      ],
      "execution_count": 1,
      "outputs": []
    },
    {
      "cell_type": "code",
      "metadata": {
        "id": "MDfHv1Qa0c7U",
        "colab_type": "code",
        "colab": {}
      },
      "source": [
        "def board_draw(list):\n",
        "    for rows in list:\n",
        "        print(\"\\t\\t\\t\\t\\t\",\" \".join(rows))"
      ],
      "execution_count": 2,
      "outputs": []
    },
    {
      "cell_type": "code",
      "metadata": {
        "id": "zDz2mMl_0gAB",
        "colab_type": "code",
        "colab": {}
      },
      "source": [
        "def check(board,player):\n",
        "    a = 0\n",
        "    b = 0\n",
        "    for i in range(0,3):\n",
        "        if (board[a][0] == board[a][1] == board[a][2] == player['hooman'] or board[a][0] == board[a][1] == board[a][2] == player['comp']):\n",
        "            return board[a][0]\n",
        "        a = a + 1\n",
        "    for i in range(0,3):\n",
        "        if (board[0][b] == board[1][b] == board[2][b] == player['hooman'] or board[0][b] == board[1][b] == board[2][b] == player['comp']):\n",
        "            return board[0][b]\n",
        "        b = b + 1\n",
        "    if((board[0][0] == board[1][1] == board[2][2] == player['hooman'] or board[0][0] == board[1][1] == board[2][2] == player['comp']) or (board[0][2] == board[1][1] == board[2][0] == player['hooman'] or board[0][2] == board[1][1] == board[2][0] == player['comp'])):\n",
        "        return board[1][1]\n",
        "    return 0\n",
        "        "
      ],
      "execution_count": 3,
      "outputs": []
    },
    {
      "cell_type": "code",
      "metadata": {
        "id": "yBS1eEw30h7Y",
        "colab_type": "code",
        "colab": {}
      },
      "source": [
        "def comp(board,free):\n",
        "  for i in (free):\n",
        "        row,col = i\n",
        "        temp = deepcopy(board)\n",
        "        temp[row][col] = player['comp']\n",
        "        if(check(temp, player) != 0):\n",
        "            index = free.index([row,col])\n",
        "            del free[index]\n",
        "            return row,col\n",
        "  for i in (free):\n",
        "        row,col = i\n",
        "        temp = deepcopy(board)\n",
        "        temp[row][col] = player['hooman']\n",
        "        if(check(temp, player) != 0):\n",
        "            index = free.index([row,col])\n",
        "            del free[index]\n",
        "            return row,col\n",
        "  row,col = r.choice(free)\n",
        "  index = free.index([row,col])\n",
        "  del free[index]\n",
        "  return row,col"
      ],
      "execution_count": 41,
      "outputs": []
    },
    {
      "cell_type": "code",
      "metadata": {
        "id": "5jG-Bw9W0j7O",
        "colab_type": "code",
        "colab": {}
      },
      "source": [
        "def instruction(list):\n",
        "    time.sleep(2)\n",
        "    print(\"\\n\\n\\t\\t\\t    Tic-Tac-Toe Co-ordinates for Hooman    \\n\")\n",
        "    board_draw(list)"
      ],
      "execution_count": 48,
      "outputs": []
    },
    {
      "cell_type": "code",
      "metadata": {
        "id": "v3nydqXW0l_O",
        "colab_type": "code",
        "colab": {}
      },
      "source": [
        "def choose(sym):\n",
        "    xando = [['X','O'],['O','X']]\n",
        "    player = dict()\n",
        "    if(sym == 'R'):\n",
        "        player['comp'], player['hooman'] = r.choice(xando)\n",
        "    else:\n",
        "        player['hooman'] = sym\n",
        "        if (sym != 'O'):\n",
        "            player['comp'] = 'O'\n",
        "        else:\n",
        "            player['comp'] = 'X'\n",
        "    return player"
      ],
      "execution_count": 32,
      "outputs": []
    },
    {
      "cell_type": "code",
      "metadata": {
        "id": "25h9CTSb0npV",
        "colab_type": "code",
        "colab": {
          "base_uri": "https://localhost:8080/",
          "height": 1000
        },
        "outputId": "ad9f833b-e2ef-4904-fe36-6d0f2b1e254d"
      },
      "source": [
        "def tictactoe(board,free, turn, co_ord,player):\n",
        "    val = check(board,player)\n",
        "    board_draw(board)\n",
        "    if (val == player['comp']):\n",
        "        print(\"\\t\\t\\t\\t  ----Computer Wins----\")\n",
        "        return\n",
        "    if (val == player['hooman']):\n",
        "        print(\"\\n\\t\\t\\t\\t  ----Hooman Wins----\")\n",
        "        return\n",
        "    if(len(free) == 0):\n",
        "        print(\"\\t\\t\\t\\t   ----Its a Tie----\")\n",
        "        return\n",
        "    if(turn == 0):\n",
        "        print(\"Comp Turn:-  Thinking\")\n",
        "        time.sleep(r.randint(2,5))\n",
        "        row,col = comp(board,free)\n",
        "        board[row][col] = player['comp']\n",
        "        tictactoe(board,free,1,co_ord,player)\n",
        "        return\n",
        "    if(turn == 1):\n",
        "        print(\"Hooman Turn:-  \")\n",
        "        row, col = co_ord[(int(input(\"Enter co-ordinates: \")))]\n",
        "        while(board[row][col] == player['comp'] or board[row][col] == player['hooman']):\n",
        "            print(board[row][col],\"already there\")\n",
        "            row, col = co_ord[(int(input(\"Enter co-ordinates: \")))]\n",
        "        board[row][col] = player['hooman']\n",
        "        index = free.index([row,col])\n",
        "        del free[index]\n",
        "        tictactoe(board,free,0,co_ord,player)\n",
        "        return\n",
        "\n",
        "option = 'y'\n",
        "print(\"\\t\\t\\t\\t ------Tictactoe------\")\n",
        "while(option == 'y'):\n",
        "    board = []\n",
        "    free = []\n",
        "    val = dict()\n",
        "    a = 1\n",
        "    n = []\n",
        "    for i in range(0, 3):\n",
        "        temp = []\n",
        "        c = []\n",
        "        for j in range(0, 3):\n",
        "            t = []\n",
        "            t.append(i)\n",
        "            t.append(j)\n",
        "            free.append(t)\n",
        "            val[a] = t\n",
        "            temp.append('-')\n",
        "            c.append(str(a))\n",
        "            a = a + 1      \n",
        "        n.append(c)\n",
        "        board.append(temp)\n",
        "    turn = r.randint(0,1)\n",
        "    instruction(n)\n",
        "    sym = input(\"Enter your symbol[X/O/(R)andom]: \")\n",
        "    player = choose(sym)\n",
        "    print(\"Comp=\",player['comp'],'\\tHooman= ',player['hooman'])\n",
        "    print(\"Initial state:\\n\")\n",
        "    tictactoe(board,free, turn,val,player)\n",
        "    option=input(\"Do you want to play again[(y)es/(n)o]: \")\n",
        "print(\"\\n\\n\\n\\t\\t\\t\\t  ----Exiting game----\")"
      ],
      "execution_count": 55,
      "outputs": [
        {
          "output_type": "stream",
          "text": [
            "\t\t\t\t ------Tictactoe------\n",
            "\n",
            "\n",
            "\t\t\t    Tic-Tac-Toe Co-ordinates for Hooman    \n",
            "\n",
            "\t\t\t\t\t 1 2 3\n",
            "\t\t\t\t\t 4 5 6\n",
            "\t\t\t\t\t 7 8 9\n",
            "Enter your symbol[X/O/(R)andom]: R\n",
            "Comp= X \tHooman=  O\n",
            "Initial state:\n",
            "\n",
            "\t\t\t\t\t - - -\n",
            "\t\t\t\t\t - - -\n",
            "\t\t\t\t\t - - -\n",
            "Hooman Turn:-  \n",
            "Enter co-ordinates: 5\n",
            "\t\t\t\t\t - - -\n",
            "\t\t\t\t\t - O -\n",
            "\t\t\t\t\t - - -\n",
            "Comp Turn:-  Thinking\n",
            "\t\t\t\t\t X - -\n",
            "\t\t\t\t\t - O -\n",
            "\t\t\t\t\t - - -\n",
            "Hooman Turn:-  \n",
            "Enter co-ordinates: 7\n",
            "\t\t\t\t\t X - -\n",
            "\t\t\t\t\t - O -\n",
            "\t\t\t\t\t O - -\n",
            "Comp Turn:-  Thinking\n",
            "\t\t\t\t\t X - X\n",
            "\t\t\t\t\t - O -\n",
            "\t\t\t\t\t O - -\n",
            "Hooman Turn:-  \n",
            "Enter co-ordinates: 2\n",
            "\t\t\t\t\t X O X\n",
            "\t\t\t\t\t - O -\n",
            "\t\t\t\t\t O - -\n",
            "Comp Turn:-  Thinking\n",
            "\t\t\t\t\t X O X\n",
            "\t\t\t\t\t - O -\n",
            "\t\t\t\t\t O X -\n",
            "Hooman Turn:-  \n",
            "Enter co-ordinates: 6\n",
            "\t\t\t\t\t X O X\n",
            "\t\t\t\t\t - O O\n",
            "\t\t\t\t\t O X -\n",
            "Comp Turn:-  Thinking\n",
            "\t\t\t\t\t X O X\n",
            "\t\t\t\t\t X O O\n",
            "\t\t\t\t\t O X -\n",
            "Hooman Turn:-  \n",
            "Enter co-ordinates: 9\n",
            "\t\t\t\t\t X O X\n",
            "\t\t\t\t\t X O O\n",
            "\t\t\t\t\t O X O\n",
            "\t\t\t\t   ----Its a Tie----\n",
            "Do you want to play again[(y)es/(n)o]: n\n",
            "\n",
            "\n",
            "\n",
            "\t\t\t\t  ----Exiting game----\n"
          ],
          "name": "stdout"
        }
      ]
    }
  ]
}